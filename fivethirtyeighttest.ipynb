{
 "cells": [
  {
   "cell_type": "code",
   "execution_count": null,
   "id": "7541a5a2-6422-447f-9a96-d599440bf003",
   "metadata": {},
   "outputs": [],
   "source": [
    "import intake\n",
    "from intake_fivethirtyeight import Five38Catalog"
   ]
  },
  {
   "cell_type": "code",
   "execution_count": null,
   "id": "17ebf354-449a-4386-b6f8-8125526cd9ae",
   "metadata": {},
   "outputs": [],
   "source": [
    "cat = intake.open_catalog(\"fivethirtyeight.yml\")"
   ]
  },
  {
   "cell_type": "code",
   "execution_count": null,
   "id": "3aa23512-2553-4c8c-9114-c997bc113d3b",
   "metadata": {},
   "outputs": [],
   "source": [
    "list(cat)\n",
    "mycat = cat.fivethirtyeight"
   ]
  },
  {
   "cell_type": "code",
   "execution_count": null,
   "id": "0bed8186-9352-4a88-89ed-3be2446f2f61",
   "metadata": {},
   "outputs": [],
   "source": [
    "list(mycat)"
   ]
  },
  {
   "cell_type": "code",
   "execution_count": null,
   "id": "21aa3901-01a0-4753-a36a-434f46b7bde5",
   "metadata": {},
   "outputs": [],
   "source": [
    "print(mycat.weather_check.description)\n",
    "list(mycat.weather_check)"
   ]
  },
  {
   "cell_type": "code",
   "execution_count": null,
   "id": "8526695f-0ce3-4ac6-a9c0-ccbbb19d4950",
   "metadata": {},
   "outputs": [],
   "source": [
    "mycat.weather_check['weather_check.csv'].read()"
   ]
  }
 ],
 "metadata": {
  "kernelspec": {
   "display_name": "Python 3 (ipykernel)",
   "language": "python",
   "name": "python3"
  },
  "language_info": {
   "codemirror_mode": {
    "name": "ipython",
    "version": 3
   },
   "file_extension": ".py",
   "mimetype": "text/x-python",
   "name": "python",
   "nbconvert_exporter": "python",
   "pygments_lexer": "ipython3",
   "version": "3.9.13"
  }
 },
 "nbformat": 4,
 "nbformat_minor": 5
}
